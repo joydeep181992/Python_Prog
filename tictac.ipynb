{
 "cells": [
  {
   "cell_type": "code",
   "execution_count": 54,
   "metadata": {},
   "outputs": [],
   "source": [
    "def board(bo):\n",
    "    print(' | | ')\n",
    "    print(bo[9] + '|' + bo[8] + '|' + bo[7])\n",
    "    print(' | | ')\n",
    "    print('------')\n",
    "    print(' | | ')\n",
    "    print(bo[6] + '|' + bo[5] + '|' + bo[4])\n",
    "    print(' | | ')\n",
    "    print('------')\n",
    "    print(' | | ')\n",
    "    print(bo[3] + '|' + bo[2] + '|' + bo[1])\n",
    "    print(' | | ')"
   ]
  },
  {
   "cell_type": "code",
   "execution_count": 55,
   "metadata": {},
   "outputs": [
    {
     "name": "stdout",
     "output_type": "stream",
     "text": [
      " | | \n",
      "x|x|x\n",
      " | | \n",
      "------\n",
      " | | \n",
      "o|x|o\n",
      " | | \n",
      "------\n",
      " | | \n",
      "x|x|o\n",
      " | | \n"
     ]
    }
   ],
   "source": [
    "board(['x','o','x','x','o','x','o','x','x','x'])"
   ]
  },
  {
   "cell_type": "code",
   "execution_count": 35,
   "metadata": {
    "collapsed": true
   },
   "outputs": [],
   "source": [
    "# def getmove():\n",
    "#     move = ''\n",
    "#     while move not"
   ]
  },
  {
   "cell_type": "code",
   "execution_count": 60,
   "metadata": {},
   "outputs": [],
   "source": [
    "def get_move():\n",
    "    move = ''\n",
    "    while not (move == 'x' or move == 'y'):\n",
    "        print('if you want x or o')\n",
    "        move = input().lower()\n",
    "    if move == 'x':\n",
    "        return ['x','o']\n",
    "    else:\n",
    "        return ['o','x']"
   ]
  },
  {
   "cell_type": "code",
   "execution_count": 66,
   "metadata": {},
   "outputs": [
    {
     "name": "stdout",
     "output_type": "stream",
     "text": [
      "if you want x or o\n",
      "x\n"
     ]
    },
    {
     "data": {
      "text/plain": [
       "['x', 'o']"
      ]
     },
     "execution_count": 66,
     "metadata": {},
     "output_type": "execute_result"
    }
   ],
   "source": [
    "get_move()"
   ]
  },
  {
   "cell_type": "code",
   "execution_count": null,
   "metadata": {
    "collapsed": true
   },
   "outputs": [],
   "source": []
  }
 ],
 "metadata": {
  "kernelspec": {
   "display_name": "Python 3",
   "language": "python",
   "name": "python3"
  },
  "language_info": {
   "codemirror_mode": {
    "name": "ipython",
    "version": 3
   },
   "file_extension": ".py",
   "mimetype": "text/x-python",
   "name": "python",
   "nbconvert_exporter": "python",
   "pygments_lexer": "ipython3",
   "version": "3.6.2"
  }
 },
 "nbformat": 4,
 "nbformat_minor": 2
}
