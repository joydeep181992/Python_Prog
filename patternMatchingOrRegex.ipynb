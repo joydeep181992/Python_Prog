{
 "cells": [
  {
   "cell_type": "code",
   "execution_count": 1,
   "metadata": {
    "collapsed": true
   },
   "outputs": [],
   "source": [
    "tableData = [['apples', 'oranges', 'cherries', 'banana'],\n",
    "['Alice', 'Bob', 'Carol', 'David'],\n",
    "['dogs', 'cats', 'moose', 'goose']]"
   ]
  },
  {
   "cell_type": "code",
   "execution_count": 15,
   "metadata": {
    "collapsed": true
   },
   "outputs": [],
   "source": [
    "def table(data):\n",
    "    colwidth = [0] * len(data)\n",
    "    for i in range(len(data)):\n",
    "        for j in range(len(data[i])):\n",
    "            if colwidth[i] <= len(data[i][j]):\n",
    "                colwidth[i] = len(data[i][j])\n",
    "    print(colwidth)\n",
    "    for i in range(len(data[0])):\n",
    "        for i1 in range(len(data)):\n",
    "            print(data[i1][i].rjust(colwidth[i1]),end=\" \")\n",
    "        print()"
   ]
  },
  {
   "cell_type": "code",
   "execution_count": 16,
   "metadata": {},
   "outputs": [
    {
     "name": "stdout",
     "output_type": "stream",
     "text": [
      "[8, 5, 5]\n",
      "  apples Alice  dogs \n",
      " oranges   Bob  cats \n",
      "cherries Carol moose \n",
      "  banana David goose \n"
     ]
    }
   ],
   "source": [
    "table(tableData)"
   ]
  },
  {
   "cell_type": "code",
   "execution_count": 27,
   "metadata": {},
   "outputs": [
    {
     "name": "stdout",
     "output_type": "stream",
     "text": [
      "the no 415-454-7777 is a no...\n",
      "the no 457-454-4845 is a no...\n"
     ]
    }
   ],
   "source": [
    "def isPhoneNo(txt):\n",
    "    if len(txt) != 12:\n",
    "        return False\n",
    "    for i in range(0,3):\n",
    "        if not txt[i].isdecimal():\n",
    "            return False\n",
    "    if txt[3:4] != '-':\n",
    "        return False\n",
    "    for i in range(4,7):\n",
    "        if not txt[i].isdecimal():\n",
    "            return False\n",
    "    if txt[7:8] != '-':\n",
    "        return False\n",
    "    for i in range(8,12):\n",
    "        if not txt[i].isdecimal():\n",
    "            return False\n",
    "    return True\n",
    "\n",
    "message = 'hi rhaif f fafb 415-454-7777 isd dsadj sda aas sa 457-454-4845'\n",
    "\n",
    "for i in range(len(message)):\n",
    "    chunk = message[i:i+12]\n",
    "    if isPhoneNo(chunk):\n",
    "        print('the no ' + chunk + ' is a no...')\n",
    "\n",
    "#print(isPhoneNo('415-545-7778'))"
   ]
  },
  {
   "cell_type": "code",
   "execution_count": 44,
   "metadata": {},
   "outputs": [
    {
     "data": {
      "text/plain": [
       "[('(18)', '1992')]"
      ]
     },
     "execution_count": 44,
     "metadata": {},
     "output_type": "execute_result"
    }
   ],
   "source": [
    "#regex aka regular expression used to search patter in a string\n",
    "import re\n",
    "regex = re.compile(r'(\\(\\d\\d\\)) (\\d\\d\\d\\d)')\n",
    "regex.findall('hi the number is (18) 1992')\n",
    "#print('yo '+str(searchPattern.groups()))\n",
    "#searchPattern.groups(4)"
   ]
  },
  {
   "cell_type": "code",
   "execution_count": 10,
   "metadata": {},
   "outputs": [
    {
     "data": {
      "text/plain": [
       "'18'"
      ]
     },
     "execution_count": 10,
     "metadata": {},
     "output_type": "execute_result"
    }
   ],
   "source": [
    "searchPattern.group(1)"
   ]
  },
  {
   "cell_type": "code",
   "execution_count": 6,
   "metadata": {},
   "outputs": [
    {
     "data": {
      "text/plain": [
       "['joydeep']"
      ]
     },
     "execution_count": 6,
     "metadata": {},
     "output_type": "execute_result"
    }
   ],
   "source": [
    "#| aka pipe which is used to search either of the string\n",
    "a = re.compile(r'joydeep|subhadeep')\n",
    "a.findall('there is a boy named brother of joydeep')\n",
    "\n",
    "#c = a.search('there is a boy named joydeep brother of subhadeep')\n",
    "#c.group()"
   ]
  },
  {
   "cell_type": "code",
   "execution_count": 7,
   "metadata": {},
   "outputs": [
    {
     "data": {
      "text/plain": [
       "'sandeep'"
      ]
     },
     "execution_count": 7,
     "metadata": {},
     "output_type": "execute_result"
    }
   ],
   "source": [
    "#searching with multiple string using grep\n",
    "d = re.compile(r'(subha|joy|raj|san|ran|angshu)deep')\n",
    "e = d.search('sandeep is my brother')\n",
    "e.group()"
   ]
  },
  {
   "cell_type": "code",
   "execution_count": 8,
   "metadata": {},
   "outputs": [
    {
     "data": {
      "text/plain": [
       "'joydeep'"
      ]
     },
     "execution_count": 8,
     "metadata": {},
     "output_type": "execute_result"
    }
   ],
   "source": [
    "#optional argument using ? \n",
    "f = re.compile(r'joy(deep|dip|diip)?')\n",
    "g = f.search('the awesomeness of joydeep')\n",
    "g.group()"
   ]
  },
  {
   "cell_type": "code",
   "execution_count": 27,
   "metadata": {},
   "outputs": [
    {
     "data": {
      "text/plain": [
       "'barman'"
      ]
     },
     "execution_count": 27,
     "metadata": {},
     "output_type": "execute_result"
    }
   ],
   "source": [
    "# '*' takes all 'wo' or no 'wo' \n",
    "h = re.compile(r'bar(wo)*man')\n",
    "i = h.search('the adventure of barwowowowowowowowowowowowowoman')\n",
    "i.group()\n",
    "g = h.search('the adventure of barman')\n",
    "g.group()"
   ]
  },
  {
   "cell_type": "code",
   "execution_count": 22,
   "metadata": {},
   "outputs": [
    {
     "data": {
      "text/plain": [
       "'barwoman'"
      ]
     },
     "execution_count": 22,
     "metadata": {},
     "output_type": "execute_result"
    }
   ],
   "source": [
    "# '+' takes atleast one 'wo' except that it return None \n",
    "k = re.compile(r'bar(wo)+man')\n",
    "l = k.search('the adventure of barwoman')\n",
    "l.group()\n",
    "#l = k.search('the adventure of barman')\n",
    "#l.group()\n",
    "#l == None\n"
   ]
  },
  {
   "cell_type": "code",
   "execution_count": 31,
   "metadata": {
    "scrolled": true
   },
   "outputs": [
    {
     "data": {
      "text/plain": [
       "'hahaha'"
      ]
     },
     "execution_count": 31,
     "metadata": {},
     "output_type": "execute_result"
    }
   ],
   "source": [
    "# creating a sequence of similar string\n",
    "regexSimilar = re.compile(r'(ha){3,5}?') #it 3 4 5 instances \n",
    "m = regexSimilar.search('joydeep hahahahahahaha')\n",
    "m.group()"
   ]
  },
  {
   "cell_type": "markdown",
   "metadata": {},
   "source": [
    "the greedy version of python will always return the longest string possible\n",
    "    ex: regexSimilar = re.compile(r'(ha){3,5}') #it 3 4 5 instances \n",
    "the non greedy version returns shortest string possible\n",
    "    ex: regexSimilar = re.compile(r'(ha){3,5}?') #it 3 char"
   ]
  },
  {
   "cell_type": "code",
   "execution_count": 42,
   "metadata": {},
   "outputs": [
    {
     "data": {
      "text/plain": [
       "['ha']"
      ]
     },
     "execution_count": 42,
     "metadata": {},
     "output_type": "execute_result"
    }
   ],
   "source": [
    "#non greedy returns lowest string possible\n",
    "regexSimilar = re.compile(r'(ha){3,5}')  \n",
    "regexSimilar.findall('joydeep hahahahahaha')\n",
    "# j.groups() "
   ]
  },
  {
   "cell_type": "code",
   "execution_count": 28,
   "metadata": {},
   "outputs": [
    {
     "data": {
      "text/plain": [
       "[('915', '898', '8989'), ('874', '787', '4545')]"
      ]
     },
     "execution_count": 28,
     "metadata": {},
     "output_type": "execute_result"
    }
   ],
   "source": [
    "# findall method in regex will return list if not grouped and tuple if grouped\n",
    "import re\n",
    "regexFindAll = re.compile(r'(\\d{3}) (\\d{3}) (\\d{4})')\n",
    "#regexFindAll = re.compile(r'(\\d\\d\\d)-(\\d\\d\\d)-(\\d\\d\\d\\d)')\n",
    "\n",
    "#mo = regexFindAll.search('hi this 915-898-8989 is an american no. with code also 874-787-4545 this')\n",
    "s = regexFindAll.findall('hi this 915 898 8989 is an american no. with code also 874 787 4545 this')\n",
    "s\n",
    "# mat = []\n",
    "# for i in s:\n",
    "#     p = '$'.join([i[0],i[1],i[2]])\n",
    "#     mat.append(p)\n",
    "# print(mat)"
   ]
  },
  {
   "cell_type": "code",
   "execution_count": 46,
   "metadata": {},
   "outputs": [
    {
     "data": {
      "text/plain": [
       "[('18', '11', '1992')]"
      ]
     },
     "execution_count": 46,
     "metadata": {},
     "output_type": "execute_result"
    }
   ],
   "source": [
    "a = re.compile(r'(\\d\\d)-(\\d\\d)-(\\d\\d\\d\\d)')\n",
    "a.findall('joydeep r9e nfjs rotccc 18-11-1992')\n",
    "# mo.groups()"
   ]
  },
  {
   "cell_type": "code",
   "execution_count": 1,
   "metadata": {
    "collapsed": true
   },
   "outputs": [],
   "source": [
    "import re"
   ]
  },
  {
   "cell_type": "code",
   "execution_count": 50,
   "metadata": {},
   "outputs": [
    {
     "data": {
      "text/plain": [
       "['312 laptop',\n",
       " '5    macbook123',\n",
       " '3 hen',\n",
       " '2 broomstick',\n",
       " '2 speaker',\n",
       " '1 iphoneX',\n",
       " '2 macbook']"
      ]
     },
     "execution_count": 50,
     "metadata": {},
     "output_type": "execute_result"
    }
   ],
   "source": [
    "message = '312 laptop,5    macbook123, 3 hen, 2 broomstick, 2 speaker, 1 iphoneX, 2 macbook' \n",
    "list_regex = re.compile(r'\\d+\\s+\\w+')\n",
    "#list_regex.findall(message)\n",
    "mo = list_regex.findall(message)\n",
    "mo"
   ]
  },
  {
   "cell_type": "code",
   "execution_count": 20,
   "metadata": {},
   "outputs": [
    {
     "data": {
      "text/plain": [
       "['j',\n",
       " 'y',\n",
       " 'd',\n",
       " 'p',\n",
       " ' ',\n",
       " 's',\n",
       " ' ',\n",
       " 't',\n",
       " 'h',\n",
       " ' ',\n",
       " 's',\n",
       " 'n',\n",
       " ' ',\n",
       " 'f',\n",
       " ' ',\n",
       " 'n',\n",
       " 'j',\n",
       " 'n',\n",
       " ' ',\n",
       " 'n',\n",
       " 'd',\n",
       " ' ',\n",
       " 'l',\n",
       " 'm',\n",
       " 'y',\n",
       " ' ',\n",
       " 'n',\n",
       " 'd',\n",
       " ' ',\n",
       " 'b',\n",
       " 'r',\n",
       " 't',\n",
       " 'h',\n",
       " 'r',\n",
       " ' ',\n",
       " 'f',\n",
       " ' ',\n",
       " 'S',\n",
       " 'b',\n",
       " 'h',\n",
       " 'd',\n",
       " 'p']"
      ]
     },
     "execution_count": 20,
     "metadata": {},
     "output_type": "execute_result"
    }
   ],
   "source": [
    "#making own character class to match\n",
    "#in this case we create Vowel class\n",
    "vowel = re.compile(r'[^aeiouAEIOU]') #^after starting [^] it means except those all\n",
    "#vowel = re.compile(r'[aeiouAEIOU]')\n",
    "vowel.findall('joydeep is the son of Anjan and Alomoyee and brother of Subhadeep')"
   ]
  },
  {
   "cell_type": "code",
   "execution_count": 51,
   "metadata": {},
   "outputs": [
    {
     "data": {
      "text/plain": [
       "<_sre.SRE_Match object; span=(0, 5), match='Hello'>"
      ]
     },
     "execution_count": 51,
     "metadata": {},
     "output_type": "execute_result"
    }
   ],
   "source": [
    "# this print stating with given sring.\n",
    "a = re.compile(r'^Hello')\n",
    "a.search('Hello world Hello')\n",
    "#a.search('ello world') == None"
   ]
  },
  {
   "cell_type": "code",
   "execution_count": 52,
   "metadata": {},
   "outputs": [
    {
     "data": {
      "text/plain": [
       "<_sre.SRE_Match object; span=(12, 13), match='3'>"
      ]
     },
     "execution_count": 52,
     "metadata": {},
     "output_type": "execute_result"
    }
   ],
   "source": [
    "a = re.compile(r'\\w$') #this says that a given string must end with a digit\n",
    "a.search('hi joydeep123ss') == None\n",
    "a.search('hi joydeep123')"
   ]
  },
  {
   "cell_type": "code",
   "execution_count": 29,
   "metadata": {},
   "outputs": [
    {
     "data": {
      "text/plain": [
       "<_sre.SRE_Match object; span=(0, 12), match='213321424343'>"
      ]
     },
     "execution_count": 29,
     "metadata": {},
     "output_type": "execute_result"
    }
   ],
   "source": [
    "a = re.compile(r'^\\d+$') #starts with a number and ends with number ^ and $\n",
    "a.search('213321424343')\n",
    "#a.search('21fjsdf321424343') == None"
   ]
  },
  {
   "cell_type": "markdown",
   "metadata": {},
   "source": [
    "while creating a regex with in a class '[]' we dont need to give and escape ch. '\\.,\\n,\\t'\n",
    "example: [0-5.] is acceptable while [0-5\\.] will include \\ ."
   ]
  },
  {
   "cell_type": "markdown",
   "metadata": {},
   "source": [
    "while creating raw string i.e. re.compile(r'\\.sda\\n') you need to give \\ character to use it"
   ]
  },
  {
   "cell_type": "code",
   "execution_count": 80,
   "metadata": {},
   "outputs": [
    {
     "data": {
      "text/plain": [
       "['eat', 'hat', 'mat', 'rat', 'sat', 'cat']"
      ]
     },
     "execution_count": 80,
     "metadata": {},
     "output_type": "execute_result"
    }
   ],
   "source": [
    "# creating a wild card character which is '. '\n",
    "# everything ends with 'at' adding the character at beginning\n",
    "# '. ' only use for single character except new line\n",
    "a = re.compile(r'.at')\n",
    "a.findall('i eat wearing a h \\nat hat in a mat but got rat which is sat on my lap oh cat')"
   ]
  },
  {
   "cell_type": "code",
   "execution_count": 90,
   "metadata": {},
   "outputs": [
    {
     "data": {
      "text/plain": [
       "'First Name:  ksr Last Name: Subhadeep'"
      ]
     },
     "execution_count": 90,
     "metadata": {},
     "output_type": "execute_result"
    }
   ],
   "source": [
    "a = re.compile(r'First Name: (.*) Last Name: (.*)')\n",
    "mo = a.search('First Name:  ksr Last Name: Subhadeep')\n",
    "mo.group()\n",
    "#mo.group(2)"
   ]
  },
  {
   "cell_type": "code",
   "execution_count": 91,
   "metadata": {},
   "outputs": [
    {
     "data": {
      "text/plain": [
       "'<I am awesome>'"
      ]
     },
     "execution_count": 91,
     "metadata": {},
     "output_type": "execute_result"
    }
   ],
   "source": [
    "b = re.compile(r'<.*?>') #gredy means everything ' .*' and non-greedy means nothing ' .*?'\n",
    "b.search('<I am awesome> and fabulous> and you know it>').group()"
   ]
  },
  {
   "cell_type": "code",
   "execution_count": 93,
   "metadata": {},
   "outputs": [
    {
     "data": {
      "text/plain": [
       "'hi im joydeep \\n and this is my jupyter notebook\\n and im learning regular expression'"
      ]
     },
     "execution_count": 93,
     "metadata": {},
     "output_type": "execute_result"
    }
   ],
   "source": [
    "# if you have a new line '\\n' \n",
    "a = re.compile('.*',re.DOTALL)\n",
    "a.search('hi im joydeep \\n and this is my jupyter notebook\\n and im learning regular expression').group()"
   ]
  },
  {
   "cell_type": "code",
   "execution_count": 32,
   "metadata": {},
   "outputs": [
    {
     "data": {
      "text/plain": [
       "'joydEEP'"
      ]
     },
     "execution_count": 32,
     "metadata": {},
     "output_type": "execute_result"
    }
   ],
   "source": [
    "# case sensetive \n",
    "a = re.compile('joydeep',re.I)\n",
    "a.search('hi joydEEP how are you').group()"
   ]
  },
  {
   "cell_type": "code",
   "execution_count": 107,
   "metadata": {},
   "outputs": [
    {
     "data": {
      "text/plain": [
       "'******************aa is my nick name'"
      ]
     },
     "execution_count": 107,
     "metadata": {},
     "output_type": "execute_result"
    }
   ],
   "source": [
    "a = re.compile('Joydeep')\n",
    "a.sub('******************aa','Joydeep is my nick name')"
   ]
  },
  {
   "cell_type": "code",
   "execution_count": 130,
   "metadata": {},
   "outputs": [
    {
     "data": {
      "text/plain": [
       "'B**** is in love with C**** who is property of M****'"
      ]
     },
     "execution_count": 130,
     "metadata": {},
     "output_type": "execute_result"
    }
   ],
   "source": [
    "# replace with sub keyword and \\1 \\2 \\3 \\4 and so on to sub with no. of character\n",
    "a = re.compile(r'Agent (\\w)\\w*')\n",
    "a.sub(r'\\1****','Agent Bony is in love with Agent Chuchu who is property of Agent Mommii')"
   ]
  },
  {
   "cell_type": "code",
   "execution_count": 140,
   "metadata": {},
   "outputs": [
    {
     "data": {
      "text/plain": [
       "'bon***!^ is my nick name and awe***!^ and sub***!^ is bro'"
      ]
     },
     "execution_count": 140,
     "metadata": {},
     "output_type": "execute_result"
    }
   ],
   "source": [
    "a = re.compile(r'joydeep (\\w)(\\w)(\\w)\\w*')\n",
    "a.sub(r'\\1\\2\\3***!^','joydeep bony is my nick name and joydeep awesome and joydeep subhadeep is bro')"
   ]
  },
  {
   "cell_type": "code",
   "execution_count": 5,
   "metadata": {},
   "outputs": [
    {
     "data": {
      "text/plain": [
       "'n*** iis basf fbfhas f fbahf'"
      ]
     },
     "execution_count": 5,
     "metadata": {},
     "output_type": "execute_result"
    }
   ],
   "source": [
    "a = re.compile(r'Agent (\\w)(\\w)(\\w)\\w*',re.I)\n",
    "a.sub(r'\\3***','agent bonyteto iis basf fbfhas f fbahf')"
   ]
  },
  {
   "cell_type": "code",
   "execution_count": 177,
   "metadata": {},
   "outputs": [
    {
     "data": {
      "text/plain": [
       "'(915)-888-7777'"
      ]
     },
     "execution_count": 177,
     "metadata": {},
     "output_type": "execute_result"
    }
   ],
   "source": [
    "phoneRegex = re.compile(r'''\n",
    "                        (\\d{3}|\\(\\d{3}\\))?   #which want you take\n",
    "                        (\\s|-|\\.)?\n",
    "                        \\d{3}\n",
    "                        (\\s|-|\\.)\n",
    "                        \\d{4}\n",
    "                        (\\s*(ext|x|ext.)\\s*\\d{2,5})?\n",
    "                        ''',re.VERBOSE) # re.VERBOSE is used to igrore the white space and comment\n",
    "phoneRegex.search('hi there (915)-888-7777').group()\n"
   ]
  },
  {
   "cell_type": "code",
   "execution_count": 10,
   "metadata": {},
   "outputs": [
    {
     "data": {
      "text/plain": [
       "['123', '212', '133']"
      ]
     },
     "execution_count": 10,
     "metadata": {},
     "output_type": "execute_result"
    }
   ],
   "source": [
    "def strongPasswordDetection(message):\n",
    "    a = re.compile(r'\\d{3}')\n",
    "    a = a.findall(message)\n",
    "    return a\n",
    "strongPasswordDetection('123 jdiasd a dadb d212 fjefbef 133')"
   ]
  },
  {
   "cell_type": "code",
   "execution_count": null,
   "metadata": {
    "collapsed": true
   },
   "outputs": [],
   "source": []
  },
  {
   "cell_type": "code",
   "execution_count": null,
   "metadata": {
    "collapsed": true
   },
   "outputs": [],
   "source": []
  },
  {
   "cell_type": "code",
   "execution_count": null,
   "metadata": {
    "collapsed": true
   },
   "outputs": [],
   "source": []
  },
  {
   "cell_type": "code",
   "execution_count": null,
   "metadata": {
    "collapsed": true
   },
   "outputs": [],
   "source": []
  },
  {
   "cell_type": "code",
   "execution_count": null,
   "metadata": {
    "collapsed": true
   },
   "outputs": [],
   "source": []
  }
 ],
 "metadata": {
  "kernelspec": {
   "display_name": "Python 3",
   "language": "python",
   "name": "python3"
  },
  "language_info": {
   "codemirror_mode": {
    "name": "ipython",
    "version": 3
   },
   "file_extension": ".py",
   "mimetype": "text/x-python",
   "name": "python",
   "nbconvert_exporter": "python",
   "pygments_lexer": "ipython3",
   "version": "3.6.2"
  }
 },
 "nbformat": 4,
 "nbformat_minor": 2
}
