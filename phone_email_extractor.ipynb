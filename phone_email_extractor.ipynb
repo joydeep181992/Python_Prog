{
 "cells": [
  {
   "cell_type": "code",
   "execution_count": 40,
   "metadata": {},
   "outputs": [
    {
     "name": "stdout",
     "output_type": "stream",
     "text": [
      "all the email and phone numbers are copied to the clipboard\n",
      "800-420-7240\n",
      "415-863-9900\n",
      "415-863-9950\n",
      "info@nostarch.com\n",
      "media@nostarch.com\n",
      "academic@nostarch.com\n",
      "info@nostarch.com\n"
     ]
    }
   ],
   "source": [
    "#! usr/bin/python3\n",
    "# phone and email extractor\n",
    "import re, pyperclip\n",
    "\n",
    "phoneNumRegex = re.compile(r'''\n",
    "                (\\d{3}|\\(\\d{3}\\))?\n",
    "                (\\s|\\.|-)?\n",
    "                (\\d{3})\n",
    "                (\\s|\\.|-)?\n",
    "                (\\d{4})\n",
    "                ''',re.VERBOSE)\n",
    "emailRegex = re.compile(r'''\n",
    "            ([a-zA-Z0-9./_+-]+  #username\n",
    "            @\n",
    "            [a-zA-Z0-9.-]+      #domain name \n",
    "            (\\.[a-zA-Z]{2,4})    #com,in,..etc...\n",
    "            )''',re.VERBOSE)\n",
    "text = str(pyperclip.paste())\n",
    "matches = []\n",
    "for groups in phoneNumRegex.findall(text):\n",
    "    phoneNum = '-'.join([groups[0],groups[2],groups[4]])\n",
    "    matches.append(phoneNum)\n",
    "for groups in emailRegex.findall(text):\n",
    "    matches.append(groups[0])\n",
    "\n",
    "if len(matches) > 0:\n",
    "    pyperclip.copy('\\n'.join(matches))\n",
    "    print('all the email and phone numbers are copied to the clipboard')\n",
    "    print('\\n'.join(matches))"
   ]
  },
  {
   "cell_type": "code",
   "execution_count": 20,
   "metadata": {},
   "outputs": [
    {
     "name": "stdout",
     "output_type": "stream",
     "text": [
      "hi-bye\n"
     ]
    }
   ],
   "source": [
    "l = ('hi','bye','tie','lie')\n",
    "print('-'.join([l[0],l[1]]))"
   ]
  },
  {
   "cell_type": "code",
   "execution_count": null,
   "metadata": {
    "collapsed": true
   },
   "outputs": [],
   "source": []
  },
  {
   "cell_type": "code",
   "execution_count": null,
   "metadata": {
    "collapsed": true
   },
   "outputs": [],
   "source": []
  },
  {
   "cell_type": "code",
   "execution_count": null,
   "metadata": {
    "collapsed": true
   },
   "outputs": [],
   "source": []
  }
 ],
 "metadata": {
  "kernelspec": {
   "display_name": "Python 3",
   "language": "python",
   "name": "python3"
  },
  "language_info": {
   "codemirror_mode": {
    "name": "ipython",
    "version": 3
   },
   "file_extension": ".py",
   "mimetype": "text/x-python",
   "name": "python",
   "nbconvert_exporter": "python",
   "pygments_lexer": "ipython3",
   "version": "3.6.2"
  }
 },
 "nbformat": 4,
 "nbformat_minor": 2
}
